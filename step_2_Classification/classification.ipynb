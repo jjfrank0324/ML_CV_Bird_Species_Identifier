{
 "cells": [
  {
   "cell_type": "code",
   "execution_count": 1,
   "metadata": {},
   "outputs": [],
   "source": [
    "import pandas as pd\n",
    "import numpy as np\n",
    "from sklearn import tree\n",
    "import matplotlib.pyplot as plt\n",
    "import csv"
   ]
  },
  {
   "cell_type": "code",
   "execution_count": 22,
   "metadata": {},
   "outputs": [],
   "source": [
    "def read_bird(filename=\"bird_to_attrs.csv\"):\n",
    "    with open(filename, newline='') as csvfile:\n",
    "        reader = csv.reader(csvfile)\n",
    "        i = 0\n",
    "        bird_name = []\n",
    "        attr_list = []\n",
    "        for row in reader:\n",
    "            if i == 0:\n",
    "                attribute = row[1:]\n",
    "            else:\n",
    "                bird_name.append(row[0])\n",
    "                attr_list.append(row[1:])\n",
    "            i += 1\n",
    "    bird_name = np.array(bird_name)\n",
    "    attribute = np.array(attribute)\n",
    "    attr_list = np.array(attr_list).astype(np.int)\n",
    "    return bird_name, attribute, attr_list\n"
   ]
  },
  {
   "cell_type": "code",
   "execution_count": 23,
   "metadata": {},
   "outputs": [],
   "source": [
    "def bar_plot(y):\n",
    "    x = np.arange(0,288,1)\n",
    "    plt.bar(x, y)\n",
    "    plt.ylabel(\"# of occurence\")\n",
    "    plt.xlabel(\"attribute number\")\n",
    "    plt.show()\n",
    "    \n",
    "    return 0"
   ]
  },
  {
   "cell_type": "code",
   "execution_count": 24,
   "metadata": {},
   "outputs": [],
   "source": [
    "def log_weight_attr(attr_list, k):\n",
    "    attr_count = np.zeros(len(attr_list[0]))\n",
    "    for i in range(len(attr_list[0])):\n",
    "        attr_count[i] = (np.sum(attr_list[:,i]))\n",
    "    \n",
    "    nor_attr_count = attr_count / np.max(attr_count)\n",
    "    nor_attr_count2 = nor_attr_count\n",
    "    for i in range(288):\n",
    "        if(nor_attr_count2[i] == 0):\n",
    "            nor_attr_count2[i] = 1\n",
    "    nor_attr_count3 = (-1*k)* np.log(nor_attr_count2)\n",
    "    attr_list_log = attr_list * nor_attr_count3\n",
    "    return attr_list_log"
   ]
  },
  {
   "cell_type": "code",
   "execution_count": 25,
   "metadata": {},
   "outputs": [],
   "source": [
    "def bird_index_lookup(bird_list, name):\n",
    "    index = 0\n",
    "    for bird in bird_list:\n",
    "        if name == bird:\n",
    "            bird_index = index\n",
    "            break\n",
    "        index += 1\n",
    "    return bird_index"
   ]
  },
  {
   "cell_type": "code",
   "execution_count": 7,
   "metadata": {},
   "outputs": [],
   "source": [
    "def accuracy(perdict, Y):\n",
    "    count = np.sum(np.equal(perdict, Y))\n",
    "    return (count/ np.shape(Y)[0])"
   ]
  },
  {
   "cell_type": "code",
   "execution_count": 26,
   "metadata": {},
   "outputs": [],
   "source": [
    "def load_CNN(filename=\"cnn_res.csv\"):\n",
    "    with open(filename, newline='') as csvfile:\n",
    "        reader = csv.reader(csvfile)\n",
    "        i = 0\n",
    "        predict_x = []\n",
    "        bird_y = []\n",
    "        for row in reader:\n",
    "            word = (row[0])\n",
    "            if i != 0:\n",
    "                predict_x.append(np.array(row[1:]).astype(np.int))\n",
    "                path = word.split('/')\n",
    "                bird = path[2].split('.')[1]\n",
    "                name = bird.replace('_', ' ')\n",
    "                bird_y.append(bird_index_lookup(bird_name, name))\n",
    "            i += 1\n",
    "    predict_x = np.array(predict_x)\n",
    "    bird_y = np.array(bird_y)\n",
    "    \n",
    "    return predict_x, bird_y"
   ]
  },
  {
   "cell_type": "code",
   "execution_count": 27,
   "metadata": {},
   "outputs": [],
   "source": [
    "def make_prediction(attr_list_log2, predict_x):\n",
    "    result = np.zeros(predict_x.shape[0])\n",
    "    for i in range(predict_x.shape[0]):\n",
    "        score = np.zeros(200)\n",
    "        for j in range(200):\n",
    "            score[j] = np.dot(predict_x[i], attr_list_log2[j])\n",
    "        result[i] = np.argmax(score)\n",
    "    return result\n"
   ]
  },
  {
   "cell_type": "code",
   "execution_count": 28,
   "metadata": {},
   "outputs": [],
   "source": [
    "bird_name, attribute, attr_list = read_bird()"
   ]
  },
  {
   "cell_type": "code",
   "execution_count": 29,
   "metadata": {},
   "outputs": [
    {
     "output_type": "stream",
     "name": "stdout",
     "text": [
      "currently with k:  0.1 . Acc is : 0.312\ncurrently with k:  1 . Acc is : 0.312\ncurrently with k:  10 . Acc is : 0.312\ncurrently with k:  100 . Acc is : 0.312\ncurrently with k:  1000 . Acc is : 0.312\ncurrently with k:  10000 . Acc is : 0.312\ncurrently with k:  100000 . Acc is : 0.312\ncurrently with k:  1000000 . Acc is : 0.312\n"
     ]
    }
   ],
   "source": [
    "k_list = [0.1, 1, 10, 100, 1000, 10000, 100000, 1000000]\n",
    "for k in k_list:\n",
    "    attr_list_log2 = log_weight_attr(attr_list, k)\n",
    "    predict_x, bird_y = load_CNN()\n",
    "    pre_y = make_prediction(attr_list_log2, predict_x)\n",
    "    print(\"currently with k: \", k, \". Acc is :\", accuracy(result,bird_y))"
   ]
  },
  {
   "cell_type": "markdown",
   "metadata": {},
   "source": [
    "# demonstration"
   ]
  },
  {
   "cell_type": "code",
   "execution_count": 31,
   "metadata": {},
   "outputs": [],
   "source": [
    "attr_count = np.zeros(len(attr_list[0]))\n",
    "for i in range(len(attr_list[0])):\n",
    "    attr_count[i] = (np.sum(attr_list[:,i]))\n",
    "\n",
    "nor_attr_count = attr_count / np.max(attr_count)\n",
    "nor_attr_count2 = nor_attr_count\n",
    "for i in range(288):\n",
    "    if(nor_attr_count2[i] == 0):\n",
    "        nor_attr_count2[i] = 1\n",
    "nor_attr_count3 = (-1*100)* np.log(nor_attr_count2)"
   ]
  },
  {
   "cell_type": "code",
   "execution_count": 264,
   "metadata": {},
   "outputs": [
    {
     "data": {
      "image/png": "[encoded data removed]",
      "text/plain": [
       "<Figure size 432x288 with 1 Axes>"
      ]
     },
     "metadata": {
      "needs_background": "light"
     },
     "output_type": "display_data"
    }
   ],
   "source": [
    "x = np.arange(0,288,1)\n",
    "plt.bar(x, attr_count)\n",
    "plt.ylabel(\"# of occurence\")\n",
    "plt.xlabel(\"attribute number\")\n",
    "plt.show()\n"
   ]
  },
  {
   "cell_type": "code",
   "execution_count": 265,
   "metadata": {},
   "outputs": [
    {
     "data": {
      "image/png": "[encoded data removed]",
      "text/plain": [
       "<Figure size 432x288 with 1 Axes>"
      ]
     },
     "metadata": {
      "needs_background": "light"
     },
     "output_type": "display_data"
    }
   ],
   "source": [
    "x = np.arange(0,288,1)\n",
    "plt.bar(x, nor_attr_count3)\n",
    "plt.ylabel(\"coefficient of attribute\")\n",
    "plt.xlabel(\"attribute number\")\n",
    "plt.show()\n"
   ]
  },
  {
   "cell_type": "markdown",
   "metadata": {},
   "source": [
    "#######################################################################################################################"
   ]
  },
  {
   "cell_type": "code",
   "execution_count": null,
   "metadata": {},
   "outputs": [],
   "source": [
    "x = np.arange(0,288,1)\n",
    "plt.bar(x, attr_count)\n",
    "plt.ylabel(\"# of occurence\")\n",
    "plt.xlabel(\"attribute number\")\n",
    "plt.show()"
   ]
  },
  {
   "cell_type": "code",
   "execution_count": 132,
   "metadata": {},
   "outputs": [],
   "source": [
    "attr_count = np.zeros(len(attr_list[0]))\n",
    "for i in range(len(attr_list[0])):\n",
    "    attr_count[i] = (np.sum(attr_list[:,i]))"
   ]
  },
  {
   "cell_type": "code",
   "execution_count": 34,
   "metadata": {},
   "outputs": [
    {
     "data": {
      "text/plain": [
       "288"
      ]
     },
     "execution_count": 34,
     "metadata": {},
     "output_type": "execute_result"
    }
   ],
   "source": [
    "len(attr_list[0])"
   ]
  },
  {
   "cell_type": "code",
   "execution_count": 133,
   "metadata": {},
   "outputs": [
    {
     "name": "stdout",
     "output_type": "stream",
     "text": [
      "110.0\n"
     ]
    }
   ],
   "source": [
    "\n",
    "print(np.max(attr_count))\n",
    "min_index = np.argmin(attr_count)\n",
    "max_index = np.argmax(attr_count)"
   ]
  },
  {
   "cell_type": "code",
   "execution_count": 134,
   "metadata": {},
   "outputs": [
    {
     "data": {
      "image/png": "[encoded data removed]",
      "text/plain": [
       "<Figure size 432x288 with 1 Axes>"
      ]
     },
     "metadata": {
      "needs_background": "light"
     },
     "output_type": "display_data"
    },
    {
     "data": {
      "text/plain": [
       "0"
      ]
     },
     "execution_count": 134,
     "metadata": {},
     "output_type": "execute_result"
    }
   ],
   "source": [
    "bar_plot(attr_count)"
   ]
  },
  {
   "cell_type": "code",
   "execution_count": 140,
   "metadata": {},
   "outputs": [
    {
     "data": {
      "image/png": "[encoded data removed]",
      "text/plain": [
       "<Figure size 432x288 with 1 Axes>"
      ]
     },
     "metadata": {
      "needs_background": "light"
     },
     "output_type": "display_data"
    },
    {
     "name": "stdout",
     "output_type": "stream",
     "text": [
      "0\n",
      "1.0 0.0\n"
     ]
    }
   ],
   "source": [
    "nor_attr_count = attr_count / np.max(attr_count)\n",
    "nor_attr_count2 = nor_attr_count\n",
    "print(bar_plot(nor_attr_count2))\n",
    "print(nor_attr_count2[max_index], nor_attr_count2[min_index])"
   ]
  },
  {
   "cell_type": "code",
   "execution_count": 141,
   "metadata": {},
   "outputs": [
    {
     "name": "stdout",
     "output_type": "stream",
     "text": [
      "0.16363636363636364 18.0\n",
      "0.06363636363636363 7.0\n",
      "0.08181818181818182 9.0\n",
      "0.22727272727272727 25.0\n",
      "0.16363636363636364 18.0\n",
      "0.2 22.0\n",
      "0.22727272727272727 25.0\n",
      "0.06363636363636363 7.0\n",
      "0.03636363636363636 4.0\n",
      "0.12727272727272726 14.0\n",
      "0.17272727272727273 19.0\n",
      "0.22727272727272727 25.0\n",
      "0.18181818181818182 20.0\n",
      "0.09090909090909091 10.0\n",
      "0.13636363636363635 15.0\n",
      "0.19090909090909092 21.0\n",
      "0.11818181818181818 13.0\n",
      "0.2818181818181818 31.0\n",
      "0.2545454545454545 28.0\n",
      "0.21818181818181817 24.0\n",
      "0.12727272727272726 14.0\n",
      "0.09090909090909091 10.0\n",
      "0.21818181818181817 24.0\n",
      "0.23636363636363636 26.0\n",
      "0.2818181818181818 31.0\n",
      "0.20909090909090908 23.0\n",
      "0.24545454545454545 27.0\n",
      "0.16363636363636364 18.0\n",
      "0.045454545454545456 5.0\n",
      "0.07272727272727272 8.0\n",
      "0.24545454545454545 27.0\n",
      "0.11818181818181818 13.0\n",
      "0.36363636363636365 40.0\n",
      "0.32727272727272727 36.0\n",
      "0.32727272727272727 36.0\n",
      "0.5181818181818182 57.0\n",
      "0.21818181818181817 24.0\n",
      "0.14545454545454545 16.0\n",
      "0.33636363636363636 37.0\n",
      "0.4 44.0\n",
      "0.41818181818181815 46.0\n",
      "0.23636363636363636 26.0\n",
      "0.509090909090909 56.0\n",
      "0.3 33.0\n",
      "0.45454545454545453 50.0\n",
      "0.2727272727272727 30.0\n",
      "0.19090909090909092 21.0\n",
      "0.41818181818181815 46.0\n",
      "0.02727272727272727 3.0\n",
      "0.2 22.0\n"
     ]
    }
   ],
   "source": [
    "for i in range(288):\n",
    "    if(nor_attr_count2[i] == 0):\n",
    "        nor_attr_count2[i] = 1\n",
    "for i in range(50):\n",
    "    print(nor_attr_count2[i], attr_count[i])"
   ]
  },
  {
   "cell_type": "code",
   "execution_count": 150,
   "metadata": {},
   "outputs": [
    {
     "data": {
      "image/png": "[encoded data removed]",
      "text/plain": [
       "<Figure size 432x288 with 1 Axes>"
      ]
     },
     "metadata": {
      "needs_background": "light"
     },
     "output_type": "display_data"
    },
    {
     "name": "stdout",
     "output_type": "stream",
     "text": [
      "0\n"
     ]
    }
   ],
   "source": [
    "nor_attr_count3 = (-100)* np.log(nor_attr_count2)\n",
    "print(bar_plot(nor_attr_count3))"
   ]
  },
  {
   "cell_type": "code",
   "execution_count": 161,
   "metadata": {},
   "outputs": [
    {
     "name": "stdout",
     "output_type": "stream",
     "text": [
      "0.0 0.0\n",
      "0.0 0.0\n",
      "0.0 0.0\n",
      "0.0 0.0\n",
      "0.0 0.0\n",
      "275.4570216737103 275.4570216737103\n",
      "0.0 0.0\n",
      "0.0 0.0\n",
      "0.0 0.0\n",
      "0.0 0.0\n",
      "0.0 0.0\n",
      "0.0 0.0\n",
      "0.0 0.0\n",
      "0.0 0.0\n",
      "0.0 0.0\n",
      "0.0 0.0\n",
      "0.0 0.0\n",
      "0.0 0.0\n",
      "0.0 0.0\n",
      "0.0 0.0\n",
      "0.0 0.0\n",
      "0.0 0.0\n",
      "0.0 0.0\n",
      "0.0 0.0\n",
      "0.0 0.0\n",
      "0.0 0.0\n",
      "0.0 0.0\n",
      "0.0 0.0\n",
      "0.0 0.0\n",
      "0.0 0.0\n",
      "0.0 0.0\n",
      "0.0 0.0\n",
      "0.0 0.0\n",
      "0.0 0.0\n",
      "0.0 0.0\n",
      "0.0 0.0\n",
      "0.0 0.0\n",
      "0.0 0.0\n",
      "0.0 0.0\n",
      "0.0 0.0\n",
      "0.0 0.0\n",
      "0.0 0.0\n",
      "0.0 0.0\n",
      "0.0 0.0\n",
      "0.0 0.0\n",
      "0.0 0.0\n",
      "0.0 0.0\n",
      "0.0 0.0\n",
      "0.0 0.0\n",
      "0.0 0.0\n",
      "0.0 0.0\n",
      "0.0 0.0\n",
      "0.0 0.0\n",
      "0.0 0.0\n",
      "0.0 0.0\n",
      "0.0 0.0\n",
      "0.0 0.0\n",
      "0.0 0.0\n",
      "0.0 0.0\n",
      "0.0 0.0\n",
      "0.0 0.0\n",
      "0.0 0.0\n",
      "0.0 0.0\n",
      "0.0 0.0\n",
      "0.0 0.0\n",
      "0.0 0.0\n",
      "0.0 0.0\n",
      "0.0 0.0\n",
      "0.0 0.0\n",
      "0.0 0.0\n",
      "0.0 0.0\n",
      "0.0 0.0\n",
      "0.0 0.0\n",
      "0.0 0.0\n",
      "0.0 0.0\n",
      "0.0 0.0\n",
      "0.0 0.0\n",
      "275.4570216737103 275.4570216737103\n",
      "0.0 0.0\n",
      "0.0 0.0\n",
      "0.0 0.0\n",
      "0.0 0.0\n",
      "0.0 0.0\n",
      "0.0 0.0\n",
      "0.0 0.0\n",
      "0.0 0.0\n",
      "0.0 0.0\n",
      "0.0 0.0\n",
      "0.0 0.0\n",
      "0.0 0.0\n",
      "0.0 0.0\n",
      "0.0 0.0\n",
      "0.0 0.0\n",
      "0.0 0.0\n",
      "0.0 0.0\n",
      "0.0 0.0\n",
      "0.0 0.0\n",
      "0.0 0.0\n",
      "0.0 0.0\n",
      "0.0 0.0\n"
     ]
    }
   ],
   "source": [
    "for i in range(100):\n",
    "    print(attr_list_log2[i][1], attr_list_log[i][1])"
   ]
  },
  {
   "cell_type": "code",
   "execution_count": 156,
   "metadata": {},
   "outputs": [
    {
     "name": "stdout",
     "output_type": "stream",
     "text": [
      "250.3255788456197 1 250.3255788456197\n"
     ]
    }
   ],
   "source": [
    "attr_list_log = attr_list * nor_attr_count3\n",
    "print(attr_list_log[1][2], attr_list[1][2],attr_list_log[1,2])"
   ]
  }
 ],
 "metadata": {
  "kernelspec": {
   "display_name": "Python 3",
   "language": "python",
   "name": "python3"
  },
  "language_info": {
   "codemirror_mode": {
    "name": "ipython",
    "version": 3
   },
   "file_extension": ".py",
   "mimetype": "text/x-python",
   "name": "python",
   "nbconvert_exporter": "python",
   "pygments_lexer": "ipython3",
   "version": "3.8.3-final"
  }
 },
 "nbformat": 4,
 "nbformat_minor": 4
}